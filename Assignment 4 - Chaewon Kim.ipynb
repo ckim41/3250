{
 "cells": [
  {
   "cell_type": "markdown",
   "metadata": {},
   "source": [
    "## Assignment 4 : USA Space Shuttle Challenger "
   ]
  },
  {
   "cell_type": "markdown",
   "metadata": {},
   "source": [
    "Read https://en.wikipedia.org/wiki/Space_Shuttle_Challenger_disaster\n",
    "\n",
    "Our task is to predict the number of O-rings that experience thermal distress on a flight at 31 degrees F given data on the previous 23 shuttle flights\n",
    "\n",
    "Download the data: **o-ring-erosion-or-blowby.data** from https://archive.ics.uci.edu/ml/datasets/Challenger+USA+Space+Shuttle+O-Ring\n"
   ]
  },
  {
   "cell_type": "code",
   "execution_count": 1,
   "metadata": {},
   "outputs": [
    {
     "name": "stderr",
     "output_type": "stream",
     "text": [
      "/Users/kimchaewon/anaconda3/lib/python3.6/site-packages/statsmodels/compat/pandas.py:56: FutureWarning: The pandas.core.datetools module is deprecated and will be removed in a future version. Please use the pandas.tseries module instead.\n",
      "  from pandas.core import datetools\n"
     ]
    }
   ],
   "source": [
    "import numpy as np\n",
    "import pandas as pd\n",
    "from pandas import DataFrame, Series\n",
    "import statsmodels.api as sm\n",
    "from sklearn.linear_model import LinearRegression\n",
    "import scipy, scipy.stats\n",
    "import matplotlib.pyplot as plt\n",
    "from matplotlib.pyplot import scatter, xlabel, ylabel, savefig\n",
    "% matplotlib inline"
   ]
  },
  {
   "cell_type": "markdown",
   "metadata": {},
   "source": [
    " Number of Attributes: \n",
    "     1. Number of O-rings at risk on a given flight\n",
    "     2. Number experiencing thermal distress\n",
    "     3. Launch temperature (degrees F)\n",
    "     4. Leak-check pressure (psi)\n",
    "     5. Temporal order of flight"
   ]
  },
  {
   "cell_type": "markdown",
   "metadata": {},
   "source": [
    "#### Data Loading"
   ]
  },
  {
   "cell_type": "code",
   "execution_count": 2,
   "metadata": {},
   "outputs": [
    {
     "name": "stdout",
     "output_type": "stream",
     "text": [
      "6 0 66  50  1\r\n",
      "6 1 70  50  2\r\n",
      "6 0 69  50  3\r\n",
      "6 0 68  50  4\r\n",
      "6 0 67  50  5\r\n",
      "6 0 72  50  6\r\n",
      "6 0 73 100  7\r\n",
      "6 0 70 100  8\r\n",
      "6 1 57 200  9\r\n",
      "6 1 63 200 10\r\n",
      "6 1 70 200 11\r\n",
      "6 0 78 200 12\r\n",
      "6 0 67 200 13\r\n",
      "6 2 53 200 14\r\n",
      "6 0 67 200 15\r\n",
      "6 0 75 200 16\r\n",
      "6 0 70 200 17\r\n",
      "6 0 81 200 18\r\n",
      "6 0 76 200 19\r\n",
      "6 0 79 200 20\r\n",
      "6 2 75 200 21\r\n",
      "6 0 76 200 22\r\n",
      "6 1 58 200 23\r\n"
     ]
    }
   ],
   "source": [
    "#Check the original data\n",
    "!cat o-ring-erosion-or-blowby.data.txt"
   ]
  },
  {
   "cell_type": "code",
   "execution_count": 22,
   "metadata": {},
   "outputs": [
    {
     "data": {
      "text/html": [
       "<div>\n",
       "<style>\n",
       "    .dataframe thead tr:only-child th {\n",
       "        text-align: right;\n",
       "    }\n",
       "\n",
       "    .dataframe thead th {\n",
       "        text-align: left;\n",
       "    }\n",
       "\n",
       "    .dataframe tbody tr th {\n",
       "        vertical-align: top;\n",
       "    }\n",
       "</style>\n",
       "<table border=\"1\" class=\"dataframe\">\n",
       "  <thead>\n",
       "    <tr style=\"text-align: right;\">\n",
       "      <th></th>\n",
       "      <th>Distress</th>\n",
       "      <th>Temperature</th>\n",
       "      <th>Pressure</th>\n",
       "      <th>dist_pct</th>\n",
       "    </tr>\n",
       "    <tr>\n",
       "      <th>Flight Order</th>\n",
       "      <th></th>\n",
       "      <th></th>\n",
       "      <th></th>\n",
       "      <th></th>\n",
       "    </tr>\n",
       "  </thead>\n",
       "  <tbody>\n",
       "    <tr>\n",
       "      <th>1</th>\n",
       "      <td>0</td>\n",
       "      <td>66</td>\n",
       "      <td>50</td>\n",
       "      <td>0.000000</td>\n",
       "    </tr>\n",
       "    <tr>\n",
       "      <th>2</th>\n",
       "      <td>1</td>\n",
       "      <td>70</td>\n",
       "      <td>50</td>\n",
       "      <td>16.666667</td>\n",
       "    </tr>\n",
       "    <tr>\n",
       "      <th>3</th>\n",
       "      <td>0</td>\n",
       "      <td>69</td>\n",
       "      <td>50</td>\n",
       "      <td>0.000000</td>\n",
       "    </tr>\n",
       "    <tr>\n",
       "      <th>4</th>\n",
       "      <td>0</td>\n",
       "      <td>68</td>\n",
       "      <td>50</td>\n",
       "      <td>0.000000</td>\n",
       "    </tr>\n",
       "    <tr>\n",
       "      <th>5</th>\n",
       "      <td>0</td>\n",
       "      <td>67</td>\n",
       "      <td>50</td>\n",
       "      <td>0.000000</td>\n",
       "    </tr>\n",
       "    <tr>\n",
       "      <th>6</th>\n",
       "      <td>0</td>\n",
       "      <td>72</td>\n",
       "      <td>50</td>\n",
       "      <td>0.000000</td>\n",
       "    </tr>\n",
       "    <tr>\n",
       "      <th>7</th>\n",
       "      <td>0</td>\n",
       "      <td>73</td>\n",
       "      <td>100</td>\n",
       "      <td>0.000000</td>\n",
       "    </tr>\n",
       "    <tr>\n",
       "      <th>8</th>\n",
       "      <td>0</td>\n",
       "      <td>70</td>\n",
       "      <td>100</td>\n",
       "      <td>0.000000</td>\n",
       "    </tr>\n",
       "    <tr>\n",
       "      <th>9</th>\n",
       "      <td>1</td>\n",
       "      <td>57</td>\n",
       "      <td>200</td>\n",
       "      <td>16.666667</td>\n",
       "    </tr>\n",
       "    <tr>\n",
       "      <th>10</th>\n",
       "      <td>1</td>\n",
       "      <td>63</td>\n",
       "      <td>200</td>\n",
       "      <td>16.666667</td>\n",
       "    </tr>\n",
       "    <tr>\n",
       "      <th>11</th>\n",
       "      <td>1</td>\n",
       "      <td>70</td>\n",
       "      <td>200</td>\n",
       "      <td>16.666667</td>\n",
       "    </tr>\n",
       "    <tr>\n",
       "      <th>12</th>\n",
       "      <td>0</td>\n",
       "      <td>78</td>\n",
       "      <td>200</td>\n",
       "      <td>0.000000</td>\n",
       "    </tr>\n",
       "    <tr>\n",
       "      <th>13</th>\n",
       "      <td>0</td>\n",
       "      <td>67</td>\n",
       "      <td>200</td>\n",
       "      <td>0.000000</td>\n",
       "    </tr>\n",
       "    <tr>\n",
       "      <th>14</th>\n",
       "      <td>2</td>\n",
       "      <td>53</td>\n",
       "      <td>200</td>\n",
       "      <td>33.333333</td>\n",
       "    </tr>\n",
       "    <tr>\n",
       "      <th>15</th>\n",
       "      <td>0</td>\n",
       "      <td>67</td>\n",
       "      <td>200</td>\n",
       "      <td>0.000000</td>\n",
       "    </tr>\n",
       "    <tr>\n",
       "      <th>16</th>\n",
       "      <td>0</td>\n",
       "      <td>75</td>\n",
       "      <td>200</td>\n",
       "      <td>0.000000</td>\n",
       "    </tr>\n",
       "    <tr>\n",
       "      <th>17</th>\n",
       "      <td>0</td>\n",
       "      <td>70</td>\n",
       "      <td>200</td>\n",
       "      <td>0.000000</td>\n",
       "    </tr>\n",
       "    <tr>\n",
       "      <th>18</th>\n",
       "      <td>0</td>\n",
       "      <td>81</td>\n",
       "      <td>200</td>\n",
       "      <td>0.000000</td>\n",
       "    </tr>\n",
       "    <tr>\n",
       "      <th>19</th>\n",
       "      <td>0</td>\n",
       "      <td>76</td>\n",
       "      <td>200</td>\n",
       "      <td>0.000000</td>\n",
       "    </tr>\n",
       "    <tr>\n",
       "      <th>20</th>\n",
       "      <td>0</td>\n",
       "      <td>79</td>\n",
       "      <td>200</td>\n",
       "      <td>0.000000</td>\n",
       "    </tr>\n",
       "    <tr>\n",
       "      <th>21</th>\n",
       "      <td>2</td>\n",
       "      <td>75</td>\n",
       "      <td>200</td>\n",
       "      <td>33.333333</td>\n",
       "    </tr>\n",
       "    <tr>\n",
       "      <th>22</th>\n",
       "      <td>0</td>\n",
       "      <td>76</td>\n",
       "      <td>200</td>\n",
       "      <td>0.000000</td>\n",
       "    </tr>\n",
       "    <tr>\n",
       "      <th>23</th>\n",
       "      <td>1</td>\n",
       "      <td>58</td>\n",
       "      <td>200</td>\n",
       "      <td>16.666667</td>\n",
       "    </tr>\n",
       "  </tbody>\n",
       "</table>\n",
       "</div>"
      ],
      "text/plain": [
       "              Distress  Temperature  Pressure   dist_pct\n",
       "Flight Order                                            \n",
       "1                    0           66        50   0.000000\n",
       "2                    1           70        50  16.666667\n",
       "3                    0           69        50   0.000000\n",
       "4                    0           68        50   0.000000\n",
       "5                    0           67        50   0.000000\n",
       "6                    0           72        50   0.000000\n",
       "7                    0           73       100   0.000000\n",
       "8                    0           70       100   0.000000\n",
       "9                    1           57       200  16.666667\n",
       "10                   1           63       200  16.666667\n",
       "11                   1           70       200  16.666667\n",
       "12                   0           78       200   0.000000\n",
       "13                   0           67       200   0.000000\n",
       "14                   2           53       200  33.333333\n",
       "15                   0           67       200   0.000000\n",
       "16                   0           75       200   0.000000\n",
       "17                   0           70       200   0.000000\n",
       "18                   0           81       200   0.000000\n",
       "19                   0           76       200   0.000000\n",
       "20                   0           79       200   0.000000\n",
       "21                   2           75       200  33.333333\n",
       "22                   0           76       200   0.000000\n",
       "23                   1           58       200  16.666667"
      ]
     },
     "execution_count": 22,
     "metadata": {},
     "output_type": "execute_result"
    }
   ],
   "source": [
    "#Load the file into pandas DataFrame\n",
    "data=pd.read_csv('o-ring-erosion-or-blowby.data.txt', delimiter=\"\\s+\", header = None, \n",
    "                names = ['Number of O-rings','Distress','Temperature', 'Pressure','Flight Order'])\n",
    "#Number of O-rings at risk on a given flight is equally 6 so I decided to drop that column\n",
    "\n",
    "#Added a column 'dict_pct' to include the probability of one o-ring's\n",
    "# erossion/blowby at certain condition.\n",
    "data['dist_pct'] = data['Distress'] / data['Number of O-rings'] * 100\n",
    "df=data.drop('Number of O-rings', axis = 1)\n",
    "df.set_index('Flight Order')"
   ]
  },
  {
   "cell_type": "code",
   "execution_count": 35,
   "metadata": {},
   "outputs": [
    {
     "data": {
      "text/plain": [
       "Temperature  Pressure  Distress\n",
       "53           200       2           1\n",
       "57           200       1           1\n",
       "58           200       1           1\n",
       "63           200       1           1\n",
       "70           50        1           1\n",
       "             200       1           1\n",
       "75           200       2           1\n",
       "Name: Distress, dtype: int64"
      ]
     },
     "execution_count": 35,
     "metadata": {},
     "output_type": "execute_result"
    }
   ],
   "source": [
    "#Slicing data: when number of O-rings experiencing thermal distress is 1 OR 2\n",
    "distress = df.loc[(df.Distress == 1) | (df.Distress ==2)]\n",
    "distress\n",
    "#Use 'groupby' to make it easier to understand the results\n",
    "distress.groupby(['Temperature','Pressure','Distress'])['Distress'].count()"
   ]
  },
  {
   "cell_type": "code",
   "execution_count": 36,
   "metadata": {},
   "outputs": [
    {
     "data": {
      "text/plain": [
       "Pressure  Temperature  Distress\n",
       "50        66           0           1\n",
       "          67           0           1\n",
       "          68           0           1\n",
       "          69           0           1\n",
       "          72           0           1\n",
       "100       70           0           1\n",
       "          73           0           1\n",
       "200       67           0           2\n",
       "          70           0           1\n",
       "          75           0           1\n",
       "          76           0           2\n",
       "          78           0           1\n",
       "          79           0           1\n",
       "          81           0           1\n",
       "Name: Distress, dtype: int64"
      ]
     },
     "execution_count": 36,
     "metadata": {},
     "output_type": "execute_result"
    }
   ],
   "source": [
    "#Slicing data: when no O-rings experience thermal distress \n",
    "no_distress=df.loc[(df.Distress==0)]\n",
    "no_distress\n",
    "#Use 'groupby' to make it easier to understand the results\n",
    "no_distress.groupby(['Pressure','Temperature','Distress'])['Distress'].count()"
   ]
  },
  {
   "cell_type": "code",
   "execution_count": 37,
   "metadata": {},
   "outputs": [
    {
     "data": {
      "text/plain": [
       "<matplotlib.legend.Legend at 0x1c17f39518>"
      ]
     },
     "execution_count": 37,
     "metadata": {},
     "output_type": "execute_result"
    },
    {
     "data": {
      "image/png": "[encoded data removed]",
      "text/plain": [
       "<matplotlib.figure.Figure at 0x1c179ab240>"
      ]
     },
     "metadata": {},
     "output_type": "display_data"
    }
   ],
   "source": [
    "#Plotting the data into a scatter plot\n",
    "plt.figure(figsize=(10,6))\n",
    "plt.scatter(distress.Temperature,distress.Distress\n",
    "        ,edgecolor='b', marker='*',label= 'Distress',\n",
    "         alpha=0.9 )\n",
    "plt.scatter(no_distress.Temperature,no_distress.Distress, \n",
    "            edgecolor='r',facecolor='None',label='No Distress',\n",
    "            alpha=0.9)\n",
    "plt.xlabel(u'Temperature \\xb0F')\n",
    "plt.ylabel('Distress')\n",
    "plt.legend()"
   ]
  },
  {
   "cell_type": "code",
   "execution_count": 41,
   "metadata": {},
   "outputs": [
    {
     "data": {
      "image/png": "[encoded data removed]",
      "text/plain": [
       "<matplotlib.figure.Figure at 0x1c1821f4e0>"
      ]
     },
     "metadata": {},
     "output_type": "display_data"
    }
   ],
   "source": [
    "#Since the plot does not represent 'Pressure' values, we will do another plot that includes 'Pressure'\n",
    "df50 = df[df.Pressure==50]\n",
    "df100 = df[df.Pressure==100]\n",
    "df200 = df[df.Pressure==200]\n",
    "\n",
    "#Plot all samples in different pressure [50,100,200]\n",
    "plt.figure(figsize=(10,6))\n",
    "plt.scatter( df50.Temperature, df50.dist_pct, label=' 50 PSI',\n",
    "          marker='*',\n",
    "          edgecolor='c',\n",
    "          facecolor='none',\n",
    "          alpha=0.5 )\n",
    "plt.scatter( df100.Temperature, df100.dist_pct, label='100 PSI',\n",
    "          marker='x',c='r',\n",
    "          alpha=0.5 )\n",
    "plt.scatter( df200.Temperature, df200.dist_pct, label='200 PSI',\n",
    "          marker='o',c='y',\n",
    "          alpha=0.5 )\n",
    "          \n",
    "plt.xlabel(u'Temperature \\xb0F')\n",
    "plt.ylabel('Distressed %')\n",
    "plt.legend()\n",
    "\n",
    "plt.show()"
   ]
  },
  {
   "cell_type": "markdown",
   "metadata": {},
   "source": [
    "To study the correlation between pressure and temperature, a multiple regression analysis was completed, with the independent variables (Temperature and Pressure) and the dependent variable (Distress)."
   ]
  },
  {
   "cell_type": "code",
   "execution_count": 44,
   "metadata": {},
   "outputs": [
    {
     "data": {
      "text/html": [
       "<table class=\"simpletable\">\n",
       "<caption>OLS Regression Results</caption>\n",
       "<tr>\n",
       "  <th>Dep. Variable:</th>        <td>Distress</td>     <th>  R-squared:         </th> <td>   0.354</td>\n",
       "</tr>\n",
       "<tr>\n",
       "  <th>Model:</th>                   <td>OLS</td>       <th>  Adj. R-squared:    </th> <td>   0.290</td>\n",
       "</tr>\n",
       "<tr>\n",
       "  <th>Method:</th>             <td>Least Squares</td>  <th>  F-statistic:       </th> <td>   5.490</td>\n",
       "</tr>\n",
       "<tr>\n",
       "  <th>Date:</th>             <td>Fri, 06 Apr 2018</td> <th>  Prob (F-statistic):</th>  <td>0.0126</td> \n",
       "</tr>\n",
       "<tr>\n",
       "  <th>Time:</th>                 <td>23:46:45</td>     <th>  Log-Likelihood:    </th> <td> -17.408</td>\n",
       "</tr>\n",
       "<tr>\n",
       "  <th>No. Observations:</th>      <td>    23</td>      <th>  AIC:               </th> <td>   40.82</td>\n",
       "</tr>\n",
       "<tr>\n",
       "  <th>Df Residuals:</th>          <td>    20</td>      <th>  BIC:               </th> <td>   44.22</td>\n",
       "</tr>\n",
       "<tr>\n",
       "  <th>Df Model:</th>              <td>     2</td>      <th>                     </th>     <td> </td>   \n",
       "</tr>\n",
       "<tr>\n",
       "  <th>Covariance Type:</th>      <td>nonrobust</td>    <th>                     </th>     <td> </td>   \n",
       "</tr>\n",
       "</table>\n",
       "<table class=\"simpletable\">\n",
       "<tr>\n",
       "       <td></td>          <th>coef</th>     <th>std err</th>      <th>t</th>      <th>P>|t|</th>  <th>[0.025</th>    <th>0.975]</th>  \n",
       "</tr>\n",
       "<tr>\n",
       "  <th>Temperature</th> <td>   -0.0487</td> <td>    0.017</td> <td>   -2.910</td> <td> 0.009</td> <td>   -0.084</td> <td>   -0.014</td>\n",
       "</tr>\n",
       "<tr>\n",
       "  <th>Pressure</th>    <td>    0.0029</td> <td>    0.002</td> <td>    1.699</td> <td> 0.105</td> <td>   -0.001</td> <td>    0.007</td>\n",
       "</tr>\n",
       "<tr>\n",
       "  <th>Eins</th>        <td>    3.3298</td> <td>    1.188</td> <td>    2.803</td> <td> 0.011</td> <td>    0.851</td> <td>    5.808</td>\n",
       "</tr>\n",
       "</table>\n",
       "<table class=\"simpletable\">\n",
       "<tr>\n",
       "  <th>Omnibus:</th>       <td>19.324</td> <th>  Durbin-Watson:     </th> <td>   2.390</td>\n",
       "</tr>\n",
       "<tr>\n",
       "  <th>Prob(Omnibus):</th> <td> 0.000</td> <th>  Jarque-Bera (JB):  </th> <td>  23.471</td>\n",
       "</tr>\n",
       "<tr>\n",
       "  <th>Skew:</th>          <td> 1.782</td> <th>  Prob(JB):          </th> <td>8.00e-06</td>\n",
       "</tr>\n",
       "<tr>\n",
       "  <th>Kurtosis:</th>      <td> 6.433</td> <th>  Cond. No.          </th> <td>1.84e+03</td>\n",
       "</tr>\n",
       "</table>"
      ],
      "text/plain": [
       "<class 'statsmodels.iolib.summary.Summary'>\n",
       "\"\"\"\n",
       "                            OLS Regression Results                            \n",
       "==============================================================================\n",
       "Dep. Variable:               Distress   R-squared:                       0.354\n",
       "Model:                            OLS   Adj. R-squared:                  0.290\n",
       "Method:                 Least Squares   F-statistic:                     5.490\n",
       "Date:                Fri, 06 Apr 2018   Prob (F-statistic):             0.0126\n",
       "Time:                        23:46:45   Log-Likelihood:                -17.408\n",
       "No. Observations:                  23   AIC:                             40.82\n",
       "Df Residuals:                      20   BIC:                             44.22\n",
       "Df Model:                           2                                         \n",
       "Covariance Type:            nonrobust                                         \n",
       "===============================================================================\n",
       "                  coef    std err          t      P>|t|      [0.025      0.975]\n",
       "-------------------------------------------------------------------------------\n",
       "Temperature    -0.0487      0.017     -2.910      0.009      -0.084      -0.014\n",
       "Pressure        0.0029      0.002      1.699      0.105      -0.001       0.007\n",
       "Eins            3.3298      1.188      2.803      0.011       0.851       5.808\n",
       "==============================================================================\n",
       "Omnibus:                       19.324   Durbin-Watson:                   2.390\n",
       "Prob(Omnibus):                  0.000   Jarque-Bera (JB):               23.471\n",
       "Skew:                           1.782   Prob(JB):                     8.00e-06\n",
       "Kurtosis:                       6.433   Cond. No.                     1.84e+03\n",
       "==============================================================================\n",
       "\n",
       "Warnings:\n",
       "[1] Standard Errors assume that the covariance matrix of the errors is correctly specified.\n",
       "[2] The condition number is large, 1.84e+03. This might indicate that there are\n",
       "strong multicollinearity or other numerical problems.\n",
       "\"\"\""
      ]
     },
     "execution_count": 44,
     "metadata": {},
     "output_type": "execute_result"
    }
   ],
   "source": [
    "df['Eins']=1\n",
    "X = df[['Temperature', 'Pressure' ,'Eins']]\n",
    "#X = sm.add_constant(X)  --> This is another method\n",
    "Y = df['Distress']\n",
    "\n",
    "result = sm.OLS( Y, X ).fit() #Ordinary Least Squares\n",
    "result.summary()"
   ]
  },
  {
   "cell_type": "markdown",
   "metadata": {},
   "source": [
    "The model used for this analysis, ordinary least squares regression, estimates the unknown parameter in a linear regression model (assuming that there is a linear relationship). The result.summary() provided an R-square value of 0.354, which indicates that the data does not fit a linear relationship.\n",
    "\n",
    "\n",
    "From the calculated 'coef' value, we got $\\beta1 (Temperature) = -0/0487$, $\\beta2 (Pressure) = 0.0029$, and $\\beta3 (Const) = 3.3298$. \n",
    "\n",
    "Put into the equition above:\n",
    "$y = -0.0487 x1 + 0.0029 x2 + 3.3298$,\n",
    "where $y$ is the predicted number of O-rings showing erosion given the Temperature and Presure."
   ]
  },
  {
   "cell_type": "markdown",
   "metadata": {},
   "source": [
    "#### How many O-rings does the model predict will show erosion or blowby when the temperature is 31 degrees F? (We don’t know how much pressure the rings will experience at liftoff so do predictions at 0, 50, 100 and 200 PSI to see what difference it makes.)\n"
   ]
  },
  {
   "cell_type": "code",
   "execution_count": 45,
   "metadata": {},
   "outputs": [
    {
     "name": "stdout",
     "output_type": "stream",
     "text": [
      "When Temperature=31 & Pressure = 0 Predicted # of O_ Rings in distress: 1.82102695086\n",
      "When Temperature=31 & Pressure = 50 Predicted # of O_ Rings in distress: 1.96799318368\n",
      "When Temperature=31 & Pressure = 100 Predicted # of O_ Rings in distress: 2.1149594165\n",
      "When Temperature=31 & Pressure = 200 Predicted # of O_ Rings in distress: 2.40889188214\n"
     ]
    }
   ],
   "source": [
    "coef1=result.params[0]\n",
    "coef2=result.params[1]\n",
    "constant=result.params[2]\n",
    "\n",
    "for pressure in [0,50,100,200]:\n",
    "    print(\"When Temperature=31 & Pressure =\", pressure, \"Predicted # of O_ Rings in distress:\", constant + coef1*31+coef2*pressure)"
   ]
  }
 ],
 "metadata": {
  "kernelspec": {
   "display_name": "Python 3",
   "language": "python",
   "name": "python3"
  },
  "language_info": {
   "codemirror_mode": {
    "name": "ipython",
    "version": 3
   },
   "file_extension": ".py",
   "mimetype": "text/x-python",
   "name": "python",
   "nbconvert_exporter": "python",
   "pygments_lexer": "ipython3",
   "version": "3.6.3"
  }
 },
 "nbformat": 4,
 "nbformat_minor": 2
}
